{
 "cells": [
  {
   "cell_type": "markdown",
   "metadata": {},
   "source": [
    "# IS211 - Zehn: Couchbase"
   ]
  },
  {
   "cell_type": "markdown",
   "metadata": {},
   "source": [
    "## Import modules"
   ]
  },
  {
   "cell_type": "code",
   "execution_count": null,
   "metadata": {},
   "outputs": [],
   "source": [
    "from couchbase.cluster import Cluster, ClusterOptions\n",
    "from couchbase.cluster import QueryOptions\n",
    "from couchbase.auth import PasswordAuthenticator"
   ]
  },
  {
   "cell_type": "markdown",
   "metadata": {},
   "source": [
    "## Thực hiện tạo mới dữ liệu trên Couchbase bằng Python\n"
   ]
  },
  {
   "cell_type": "code",
   "execution_count": null,
   "metadata": {},
   "outputs": [],
   "source": [
    "cluster = Cluster('couchbase://26.167.214.119',\n",
    "                  ClusterOptions(\n",
    "                      PasswordAuthenticator('master', '123456')\n",
    "                  )\n",
    ")\n",
    "\n",
    "collection = cluster.bucket('zehn').scope('zehn-scope').collection('zehn-scope-collection')\n",
    "\n",
    "document = {\n",
    "    \"key1\": \"value1\",\n",
    "    \"key2\": 2,\n",
    "    \"key3\": [3, 4, 5]\n",
    "}\n",
    "\n",
    "result = collection.insert(\"new-document\", document)\n",
    "\n",
    "print(result.cas)"
   ]
  },
  {
   "cell_type": "markdown",
   "metadata": {},
   "source": [
    "## Truy vấn dữ liệu"
   ]
  },
  {
   "cell_type": "markdown",
   "metadata": {},
   "source": [
    "### Truy vấn dữ liệu trực tiếp bằng Python không dùng N1QL Query\n"
   ]
  },
  {
   "cell_type": "code",
   "execution_count": null,
   "metadata": {},
   "outputs": [],
   "source": [
    "cluster = Cluster('couchbase://26.167.214.119',\n",
    "                  ClusterOptions(\n",
    "                      PasswordAuthenticator('master', '123456')\n",
    "                  )\n",
    ")\n",
    "\n",
    "collection = cluster.bucket('travel-sample').scope('inventory').collection('airport')\n",
    "\n",
    "result = collection.get('airport_1257')\n",
    "\n",
    "print(result.content_as[str])"
   ]
  },
  {
   "cell_type": "markdown",
   "metadata": {},
   "source": [
    "### Truy vấn dữ liệu bằng Python dùng N1QL Query"
   ]
  },
  {
   "cell_type": "code",
   "execution_count": null,
   "metadata": {},
   "outputs": [],
   "source": [
    "cluster = Cluster('couchbase://26.167.214.119',\n",
    "                  ClusterOptions(\n",
    "                      PasswordAuthenticator('master', '123456')\n",
    "                  )\n",
    ")\n",
    "\n",
    "result = cluster.query(\n",
    "    \"\"\"SELECT * \n",
    "     FROM `travel-sample`.inventory.airport \n",
    "     WHERE airport.city = 'Los Angeles' \"\"\"\n",
    ")\n",
    "\n",
    "for row in result:\n",
    "    print(row)"
   ]
  },
  {
   "cell_type": "markdown",
   "metadata": {},
   "source": [
    "### Truy vấn dữ liệu phân tán bằng Python dùng N1QL Query\n",
    "Liệt kê các sân bay (airports) và địa điểm du lịch (landmarks) trong cùng một thành phố, với các thành phố này thuộc nước Mỹ , sắp xếp theo địa điểm du lịch."
   ]
  },
  {
   "cell_type": "code",
   "execution_count": null,
   "metadata": {},
   "outputs": [],
   "source": [
    "cluster = Cluster('couchbase://26.46.70.3',\n",
    "                  ClusterOptions(\n",
    "                      PasswordAuthenticator('master', '123456')\n",
    "                  )\n",
    ")\n",
    "\n",
    "result = cluster.query(\n",
    "    \"\"\"SELECT DISTINCT \n",
    "        MIN(aport.airportname) AS Airport__Name,\n",
    "        MIN(lmark.name) AS Landmark_Name,\n",
    "        MIN(aport.tz) AS Landmark_Time\n",
    "    FROM \n",
    "        `travel-sample`.inventory.airport aport\n",
    "        RIGHT JOIN `travel-sample`.inventory.landmark lmark\n",
    "            ON aport.city = lmark.city\n",
    "            AND aport.country = \"United States\"\n",
    "    GROUP BY lmark.name\n",
    "    ORDER BY lmark.name\n",
    "    LIMIT 3;\"\"\"\n",
    ")\n",
    "\n",
    "for row in result:\n",
    "    print(row)"
   ]
  }
 ],
 "metadata": {
  "language_info": {
   "name": "python"
  },
  "orig_nbformat": 4
 },
 "nbformat": 4,
 "nbformat_minor": 2
}
